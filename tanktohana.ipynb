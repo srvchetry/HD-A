{
 "cells": [
  {
   "cell_type": "code",
   "execution_count": 98,
   "id": "566c50b9-ba82-412e-aba8-ab02761d1d9e",
   "metadata": {},
   "outputs": [
    {
     "name": "stdout",
     "output_type": "stream",
     "text": [
      "Platform architecture: 64bit\n"
     ]
    }
   ],
   "source": [
    "#Import your dependencies\n",
    "import platform\n",
    "# from hdbcli import dbapi\n",
    "from hana_ml.dataframe import ConnectionContext as cc\n",
    "import requests\n",
    "import json\n",
    "import pandas as pd\n",
    "from hana_ml import dataframe\n",
    "\n",
    "#verify the architecture of Python\n",
    "print (\"Platform architecture: \" + platform.architecture()[0])\n"
   ]
  },
  {
   "cell_type": "code",
   "execution_count": 105,
   "id": "7a473477-2b2f-490c-ae57-78ee3855b306",
   "metadata": {},
   "outputs": [
    {
     "name": "stdout",
     "output_type": "stream",
     "text": [
      "connected\n"
     ]
    }
   ],
   "source": [
    "#Initialize your connection\n",
    "sap_hana_config_file = \"env_cloud.json\"\n",
    "with open(sap_hana_config_file) as f:\n",
    "    sap_hana_config = json.load(f)\n",
    "    db_url  = sap_hana_config['url']\n",
    "    db_port = sap_hana_config['port']\n",
    "    db_user = sap_hana_config['user']\n",
    "    db_pwd  = sap_hana_config['pwd']\n",
    "\n",
    "    # Saurav: this took a while to debug. sslValidateCertificate must be set to false when connecting to an SAP HANA Cloud\n",
    "conn = cc(db_url, db_port, db_user, db_pwd, sslValidateCertificate=False \n",
    ")\n",
    "#If no errors, print connected\n",
    "print('connected')\n"
   ]
  },
  {
   "cell_type": "code",
   "execution_count": 102,
   "id": "0e9b2922-d613-41bc-9fb2-7fb08cbb76ac",
   "metadata": {},
   "outputs": [
    {
     "name": "stdout",
     "output_type": "stream",
     "text": [
      "  FuelType  Count   Mean  Median                 Timestamp\n",
      "0       E5  11736  1.813   1.799  2023-07-12T21:24:57+0200\n",
      "1      E10  11237  1.755   1.739  2023-07-12T21:24:57+0200\n",
      "2   Diesel  12044  1.593   1.579  2023-07-12T21:24:57+0200\n"
     ]
    },
    {
     "name": "stderr",
     "output_type": "stream",
     "text": [
      "100%|████████████████████████████████████████████████████████████████████████████████████| 1/1 [00:00<00:00,  2.36it/s]\n"
     ]
    }
   ],
   "source": [
    "\n",
    "api_url = \"https://creativecommons.tankerkoenig.de/api/v4/stats?apikey=cffa4fb8-7a16-cd85-7946-263722530f15\"\n",
    "headers =  {\"Content-Type\":\"application/json\", \"charset\":\"utf-8\"}\n",
    "response = requests.get(api_url, headers=headers)\n",
    "json_data = response.json()\n",
    "\n",
    "\n",
    "\n",
    "timestamp = json_data['timestamp']\n",
    "data = [\n",
    "    {'FuelType':fuel_type, 'Count': fuel_data['count'], 'Mean': fuel_data['mean'], 'Median': fuel_data['median'], 'Timestamp': timestamp}\n",
    "    for fuel_type, fuel_data in json_data.items()\n",
    "    if fuel_type not in ['timestamp', 'license', 'apiVersion']\n",
    "    \n",
    "\n",
    "]\n",
    "\n",
    "    \n",
    "       \n",
    "\n",
    "df = pd.DataFrame(data)\n",
    "\n",
    "\n",
    "\n",
    "print(df)\n",
    "\n",
    "\n",
    "hana_df = dataframe.create_dataframe_from_pandas(conn, df, 'TANK_STATS',force=True,replace=True,drop_exist_tab=False)\n",
    "\n",
    "\n",
    "\n",
    "\n",
    "\n",
    "\n"
   ]
  },
  {
   "cell_type": "code",
   "execution_count": null,
   "id": "c176443c-675a-4d8a-8f5e-01db8aab85ab",
   "metadata": {},
   "outputs": [],
   "source": []
  }
 ],
 "metadata": {
  "kernelspec": {
   "display_name": "Python 3",
   "language": "python",
   "name": "python3"
  },
  "language_info": {
   "codemirror_mode": {
    "name": "ipython",
    "version": 3
   },
   "file_extension": ".py",
   "mimetype": "text/x-python",
   "name": "python",
   "nbconvert_exporter": "python",
   "pygments_lexer": "ipython3",
   "version": "3.9.5"
  }
 },
 "nbformat": 4,
 "nbformat_minor": 5
}
